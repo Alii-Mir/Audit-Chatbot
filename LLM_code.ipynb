{
 "cells": [
  {
   "cell_type": "code",
   "execution_count": null,
   "id": "35e18064",
   "metadata": {},
   "outputs": [],
   "source": [
    "import os\n",
    "import pandas as pd\n",
    "import requests\n",
    "import gradio as gr"
   ]
  },
  {
   "cell_type": "code",
   "execution_count": null,
   "id": "a80fcb3d",
   "metadata": {},
   "outputs": [],
   "source": [
    "# Sample data input (replace with Power BI data frame input)\n",
    "df = pd.read_csv(\"Rationale_Chatbot.csv\")\n",
    "\n",
    "# KEY = \"xxxxxxxxx\""
   ]
  },
  {
   "cell_type": "code",
   "execution_count": 15,
   "id": "72a2723d",
   "metadata": {},
   "outputs": [],
   "source": [
    "MODEL = \"llama-3.3-70b-versatile\"\n",
    "API_URL = \"https://api.groq.com/openai/v1/chat/completions\""
   ]
  },
  {
   "cell_type": "code",
   "execution_count": 16,
   "id": "bb4a1034",
   "metadata": {},
   "outputs": [],
   "source": [
    "# Function: Build context + send to Groq\n",
    "def ask_llm(api_key, question):\n",
    "    # build context from dataframe\n",
    "    sample_records = df.head(15).to_dict(orient=\"records\")\n",
    "    context = \"\\n\".join([f\"{r['Corp Name']}: {r['Rationale']}\" for r in sample_records])\n",
    "# ------------------------------------------------------------------------------------------------\n",
    "    prompt = f\"\"\"\n",
    "You are a helpful assistant analyzing audit flag rationales for a government auditing system.\n",
    "Here are sample flagged companies and the reasons:\n",
    "\n",
    "{context}\n",
    "\n",
    "Question: {question}\n",
    "Answer:\n",
    "\"\"\"\n",
    "# ------------------------------------------------------------------------------------------------\n",
    "    # Prepare and send the request\n",
    "    headers = {\n",
    "        \"Authorization\": f\"Bearer {api_key}\",\n",
    "        \"Content-Type\": \"application/json\"\n",
    "    }\n",
    "    \n",
    "    payload = {\n",
    "        \"model\": MODEL,\n",
    "        \"messages\": [\n",
    "            {\"role\": \"system\", \"content\": \"You are an audit expert helping explain flags.\"},\n",
    "            {\"role\": \"user\", \"content\": prompt}\n",
    "        ],\n",
    "        \"temperature\": 0.3\n",
    "    }\n",
    "\n",
    "    response = requests.post(API_URL, headers=headers, json=payload)\n",
    "    if response.status_code == 200:\n",
    "        return response.json()[\"choices\"][0][\"message\"][\"content\"]\n",
    "    else:\n",
    "        return f\"Error: {response.status_code} - {response.text}\"\n"
   ]
  },
  {
   "cell_type": "code",
   "execution_count": 17,
   "id": "0f26d494",
   "metadata": {},
   "outputs": [],
   "source": [
    "# Build the Gradio interface with two inputs: API key and question\n",
    "interface = gr.Interface(\n",
    "    fn=ask_llm,\n",
    "    inputs=[\n",
    "        gr.Textbox(label=\"Groq API Key\", type=\"password\", placeholder=\"Enter your Groq API Key\"),\n",
    "        gr.Textbox(label=\"Question\", lines=2, placeholder=\"e.g., Why was Minty Co flagged?\")\n",
    "    ],\n",
    "    outputs=gr.Textbox(label=\"LLM Explanation\"),\n",
    "    title=\"Audit Flag Q&A\",\n",
    "    description=\"Enter your Groq API Key and a question to get an explanation of flagged audit records.\"\n",
    ")\n"
   ]
  },
  {
   "cell_type": "code",
   "execution_count": null,
   "id": "f3d405e5",
   "metadata": {},
   "outputs": [
    {
     "name": "stdout",
     "output_type": "stream",
     "text": [
      "* Running on local URL:  http://127.0.0.1:7862\n",
      "* To create a public link, set `share=True` in `launch()`.\n"
     ]
    },
    {
     "data": {
      "text/html": [
       "<div><iframe src=\"http://127.0.0.1:7862/\" width=\"100%\" height=\"500\" allow=\"autoplay; camera; microphone; clipboard-read; clipboard-write;\" frameborder=\"0\" allowfullscreen></iframe></div>"
      ],
      "text/plain": [
       "<IPython.core.display.HTML object>"
      ]
     },
     "metadata": {},
     "output_type": "display_data"
    },
    {
     "data": {
      "text/plain": []
     },
     "execution_count": 18,
     "metadata": {},
     "output_type": "execute_result"
    }
   ],
   "source": [
    "# KEY = \"xxxxxxxxx\"\n",
    "interface.launch()"
   ]
  }
 ],
 "metadata": {
  "kernelspec": {
   "display_name": "env_ml_1",
   "language": "python",
   "name": "python3"
  },
  "language_info": {
   "codemirror_mode": {
    "name": "ipython",
    "version": 3
   },
   "file_extension": ".py",
   "mimetype": "text/x-python",
   "name": "python",
   "nbconvert_exporter": "python",
   "pygments_lexer": "ipython3",
   "version": "3.11.0"
  }
 },
 "nbformat": 4,
 "nbformat_minor": 5
}
